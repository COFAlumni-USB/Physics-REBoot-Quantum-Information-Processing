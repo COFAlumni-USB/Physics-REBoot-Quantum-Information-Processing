{
  "nbformat": 4,
  "nbformat_minor": 0,
  "metadata": {
    "colab": {
      "name": "ejemplo_transpilacion.ipynb",
      "provenance": [],
      "collapsed_sections": [],
      "authorship_tag": "ABX9TyPMVANP+PR6JCebzPNRW+lv",
      "include_colab_link": true
    },
    "kernelspec": {
      "name": "python3",
      "display_name": "Python 3"
    },
    "language_info": {
      "name": "python"
    }
  },
  "cells": [
    {
      "cell_type": "markdown",
      "metadata": {
        "id": "view-in-github",
        "colab_type": "text"
      },
      "source": [
        "<a href=\"https://colab.research.google.com/github/COFAlumni-USB/Physics-REBoot-Quantum-Information-Processing/blob/main/Tutorials%20HandsOn/PhysicsREBoot_ejemplo_transpilacion.ipynb\" target=\"_parent\"><img src=\"https://colab.research.google.com/assets/colab-badge.svg\" alt=\"Open In Colab\"/></a>"
      ]
    },
    {
      "cell_type": "markdown",
      "source": [
        "# Introducción \n",
        "Este notebook es un ejemplo corto de cómo transpilar circuitos de compuertas usuales a otras compuerta nativas como las compuertas de IBM. Esto permite ejecutar un circuto de manera eficiente para evitar errores. Para más información sobre las compuertas nativas revisar [1].\n",
        "\n",
        "El conjunto de compuertas usado por IBM consiste en las compuertas $U_1(\\theta),\\sqrt{X}$ y $\\mathrm{CNOT}$ [1].\n",
        "\n",
        "# Preámbulo"
      ],
      "metadata": {
        "id": "qeuuvOH4REuH"
      }
    },
    {
      "cell_type": "code",
      "execution_count": 2,
      "metadata": {
        "id": "NZZZC6NK_UuM"
      },
      "outputs": [],
      "source": [
        "try:\n",
        "  import qiskit as qkt\n",
        "except:\n",
        "  !pip install qiskit\n",
        "  import qiskit as qkt\n",
        "try: \n",
        "  import numpy as np\n",
        "except:\n",
        "  !pip install numpy\n",
        "  import numpy as np"
      ]
    },
    {
      "cell_type": "markdown",
      "source": [
        "Circuito de ejemplo"
      ],
      "metadata": {
        "id": "lrEizo2BDCoB"
      }
    },
    {
      "cell_type": "code",
      "source": [
        "qc=qkt.QuantumCircuit(3)\n",
        "qc.ry(2.46,0)\n",
        "qc.ch(0,1)\n",
        "qc.cx(1,2)\n",
        "qc.cx(0,1)\n",
        "qc.x(0)\n",
        "qc.ccx(0,1,2)\n",
        "qc.draw()"
      ],
      "metadata": {
        "colab": {
          "base_uri": "https://localhost:8080/",
          "height": 125
        },
        "id": "9CzEcCJ2_dNo",
        "outputId": "8e458fe5-8dd4-4ce6-edb1-c008bc5aac2c"
      },
      "execution_count": 3,
      "outputs": [
        {
          "output_type": "execute_result",
          "data": {
            "text/plain": [
              "     ┌──────────┐               ┌───┐     \n",
              "q_0: ┤ Ry(2.46) ├──■─────────■──┤ X ├──■──\n",
              "     └──────────┘┌─┴─┐     ┌─┴─┐└───┘  │  \n",
              "q_1: ────────────┤ H ├──■──┤ X ├───────■──\n",
              "                 └───┘┌─┴─┐└───┘     ┌─┴─┐\n",
              "q_2: ─────────────────┤ X ├──────────┤ X ├\n",
              "                      └───┘          └───┘"
            ],
            "text/html": [
              "<pre style=\"word-wrap: normal;white-space: pre;background: #fff0;line-height: 1.1;font-family: &quot;Courier New&quot;,Courier,monospace\">     ┌──────────┐               ┌───┐     \n",
              "q_0: ┤ Ry(2.46) ├──■─────────■──┤ X ├──■──\n",
              "     └──────────┘┌─┴─┐     ┌─┴─┐└───┘  │  \n",
              "q_1: ────────────┤ H ├──■──┤ X ├───────■──\n",
              "                 └───┘┌─┴─┐└───┘     ┌─┴─┐\n",
              "q_2: ─────────────────┤ X ├──────────┤ X ├\n",
              "                      └───┘          └───┘</pre>"
            ]
          },
          "metadata": {},
          "execution_count": 3
        }
      ]
    },
    {
      "cell_type": "markdown",
      "source": [
        "Esta línea permite saber la profundidad del circuito con las compuertas usadas arriba"
      ],
      "metadata": {
        "id": "k7Xm5rW0A43y"
      }
    },
    {
      "cell_type": "code",
      "source": [
        "qc.depth()"
      ],
      "metadata": {
        "colab": {
          "base_uri": "https://localhost:8080/"
        },
        "id": "HYi7lIIs_yFR",
        "outputId": "3541583c-e715-44df-86ad-7a661e55eefd"
      },
      "execution_count": 4,
      "outputs": [
        {
          "output_type": "execute_result",
          "data": {
            "text/plain": [
              "6"
            ]
          },
          "metadata": {},
          "execution_count": 4
        }
      ]
    },
    {
      "cell_type": "markdown",
      "source": [
        "También se pueden contar el número de compuertas de cada tipo. Ejemplo:"
      ],
      "metadata": {
        "id": "EVhcePYLA65i"
      }
    },
    {
      "cell_type": "code",
      "source": [
        "qc.count_ops()"
      ],
      "metadata": {
        "colab": {
          "base_uri": "https://localhost:8080/"
        },
        "id": "mz6dN0R3AaY-",
        "outputId": "d572e29d-524a-4ad4-93e4-7d66a820f8fc"
      },
      "execution_count": 5,
      "outputs": [
        {
          "output_type": "execute_result",
          "data": {
            "text/plain": [
              "OrderedDict([('cx', 2), ('ry', 1), ('ch', 1), ('x', 1), ('ccx', 1)])"
            ]
          },
          "metadata": {},
          "execution_count": 5
        }
      ]
    },
    {
      "cell_type": "code",
      "source": [
        "qc.count_ops()['cx']"
      ],
      "metadata": {
        "colab": {
          "base_uri": "https://localhost:8080/"
        },
        "id": "cIyU1l8UAkL_",
        "outputId": "beaa4860-2710-47d5-e753-b2014ee650b1"
      },
      "execution_count": 6,
      "outputs": [
        {
          "output_type": "execute_result",
          "data": {
            "text/plain": [
              "2"
            ]
          },
          "metadata": {},
          "execution_count": 6
        }
      ]
    },
    {
      "cell_type": "markdown",
      "source": [
        "## Circuito transpilado a compuertas de IBM\n",
        "\n",
        "Hay que usar `qiskit.transpile` e indicar que compuertas y el nivel de optimización de 1 a 3. Ver la documentación para más opciones https://qiskit.org/documentation/apidoc/transpiler.html . Esto puede optimizarse incluso para las conexiones específicas de cada dispositivo."
      ],
      "metadata": {
        "id": "yHyrRyFNDLDF"
      }
    },
    {
      "cell_type": "code",
      "source": [
        "qc2=qkt.transpile(qc,basis_gates =['u1', 'sx', 'cx'],optimization_level=3)\n",
        "qc2.draw()"
      ],
      "metadata": {
        "colab": {
          "base_uri": "https://localhost:8080/",
          "height": 340
        },
        "id": "JQYmFFXhBMFJ",
        "outputId": "87b7c1d2-0181-4db5-9840-e26b0dd90dd1"
      },
      "execution_count": 15,
      "outputs": [
        {
          "output_type": "execute_result",
          "data": {
            "text/plain": [
              "     ┌─────────┐┌────┐┌──────────────────────┐┌────┐                           »\n",
              "q_0: ┤ U1(0.0) ├┤ √X ├┤ U1(5.60159265358979) ├┤ √X ├──■────────────────────────»\n",
              "     └┬───────┬┘├────┤└─────┬──────────┬─────┘└────┘┌─┴─┐┌─────────┐┌────┐     »\n",
              "q_1: ─┤ U1(π) ├─┤ √X ├──────┤ U1(3π/4) ├────────────┤ X ├┤ U1(π/4) ├┤ √X ├──■──»\n",
              "      └───────┘ └────┘      └──────────┘            └───┘└─────────┘└────┘┌─┴─┐»\n",
              "q_2: ─────────────────────────────────────────────────────────────────────┤ X ├»\n",
              "                                                                          └───┘»\n",
              "«                ┌────┐ ┌────────┐┌────┐┌───────────┐                     »\n",
              "«q_0: ─────■─────┤ √X ├─┤ U1(2π) ├┤ √X ├┤ U1(13π/4) ├──■──────────────────»\n",
              "«        ┌─┴─┐   └────┘ └────────┘└────┘└───────────┘  │                  »\n",
              "«q_1: ───┤ X ├──────────────────────■──────────────────┼───────────────■──»\n",
              "«     ┌──┴───┴──┐┌────┐┌─────────┐┌─┴─┐  ┌──────────┐┌─┴─┐┌─────────┐┌─┴─┐»\n",
              "«q_2: ┤ U1(π/2) ├┤ √X ├┤ U1(π/2) ├┤ X ├──┤ U1(-π/4) ├┤ X ├┤ U1(π/4) ├┤ X ├»\n",
              "«     └─────────┘└────┘└─────────┘└───┘  └──────────┘└───┘└─────────┘└───┘»\n",
              "«                                                         \n",
              "«q_0: ──────────────■───────■───────────────────────■─────\n",
              "«     ┌─────────┐   │     ┌─┴─┐    ┌──────────┐   ┌─┴─┐   \n",
              "«q_1: ┤ U1(π/4) ├───┼─────┤ X ├────┤ U1(-π/4) ├───┤ X ├───\n",
              "«     ├─────────┴┐┌─┴─┐┌──┴───┴───┐└──┬────┬──┘┌──┴───┴──┐\n",
              "«q_2: ┤ U1(-π/4) ├┤ X ├┤ U1(3π/4) ├───┤ √X ├───┤ U1(π/2) ├\n",
              "«     └──────────┘└───┘└──────────┘   └────┘   └─────────┘"
            ],
            "text/html": [
              "<pre style=\"word-wrap: normal;white-space: pre;background: #fff0;line-height: 1.1;font-family: &quot;Courier New&quot;,Courier,monospace\">     ┌─────────┐┌────┐┌──────────────────────┐┌────┐                           »\n",
              "q_0: ┤ U1(0.0) ├┤ √X ├┤ U1(5.60159265358979) ├┤ √X ├──■────────────────────────»\n",
              "     └┬───────┬┘├────┤└─────┬──────────┬─────┘└────┘┌─┴─┐┌─────────┐┌────┐     »\n",
              "q_1: ─┤ U1(π) ├─┤ √X ├──────┤ U1(3π/4) ├────────────┤ X ├┤ U1(π/4) ├┤ √X ├──■──»\n",
              "      └───────┘ └────┘      └──────────┘            └───┘└─────────┘└────┘┌─┴─┐»\n",
              "q_2: ─────────────────────────────────────────────────────────────────────┤ X ├»\n",
              "                                                                          └───┘»\n",
              "«                ┌────┐ ┌────────┐┌────┐┌───────────┐                     »\n",
              "«q_0: ─────■─────┤ √X ├─┤ U1(2π) ├┤ √X ├┤ U1(13π/4) ├──■──────────────────»\n",
              "«        ┌─┴─┐   └────┘ └────────┘└────┘└───────────┘  │                  »\n",
              "«q_1: ───┤ X ├──────────────────────■──────────────────┼───────────────■──»\n",
              "«     ┌──┴───┴──┐┌────┐┌─────────┐┌─┴─┐  ┌──────────┐┌─┴─┐┌─────────┐┌─┴─┐»\n",
              "«q_2: ┤ U1(π/2) ├┤ √X ├┤ U1(π/2) ├┤ X ├──┤ U1(-π/4) ├┤ X ├┤ U1(π/4) ├┤ X ├»\n",
              "«     └─────────┘└────┘└─────────┘└───┘  └──────────┘└───┘└─────────┘└───┘»\n",
              "«                                                         \n",
              "«q_0: ──────────────■───────■───────────────────────■─────\n",
              "«     ┌─────────┐   │     ┌─┴─┐    ┌──────────┐   ┌─┴─┐   \n",
              "«q_1: ┤ U1(π/4) ├───┼─────┤ X ├────┤ U1(-π/4) ├───┤ X ├───\n",
              "«     ├─────────┴┐┌─┴─┐┌──┴───┴───┐└──┬────┬──┘┌──┴───┴──┐\n",
              "«q_2: ┤ U1(-π/4) ├┤ X ├┤ U1(3π/4) ├───┤ √X ├───┤ U1(π/2) ├\n",
              "«     └──────────┘└───┘└──────────┘   └────┘   └─────────┘</pre>"
            ]
          },
          "metadata": {},
          "execution_count": 15
        }
      ]
    },
    {
      "cell_type": "markdown",
      "source": [
        "Ahora podemos ver la profundidad real del circuito"
      ],
      "metadata": {
        "id": "hTcdonrRDOe5"
      }
    },
    {
      "cell_type": "code",
      "source": [
        "qc2.depth()"
      ],
      "metadata": {
        "colab": {
          "base_uri": "https://localhost:8080/"
        },
        "id": "qh7sQnDZB-zW",
        "outputId": "f1ed1e14-1f19-4051-f4ee-1b2832939e93"
      },
      "execution_count": 16,
      "outputs": [
        {
          "output_type": "execute_result",
          "data": {
            "text/plain": [
              "21"
            ]
          },
          "metadata": {},
          "execution_count": 16
        }
      ]
    },
    {
      "cell_type": "markdown",
      "source": [
        "Para saber que ejecutar en IBM deben ver el volumen cuántico de cada procesador. El volumen cuántico mide $V=(\\min\\{N,d\\})^2$ donde $\\min$ es el mínimo entre dos valores, $N$ es el número de qubits y $d$ la profundidad del circuito.\n",
        "\n",
        "Si el circuito es muy profundo es normal que los resultados reales difieran del resultado final."
      ],
      "metadata": {
        "id": "N9e3GTBQDdFy"
      }
    },
    {
      "cell_type": "markdown",
      "source": [
        "#Referencia:\n",
        "[1] Adedoyin, Adetokunbo, et al. \"Quantum algorithm implementations for beginners.\" (2018). https://arxiv.org/abs/1804.03719\n",
        "# Créditos \n",
        "Material de COF Alumni USB para el Physics REBoot Venezuela: Quantum Computing con apoyo del programa Physics Without Frontiers del ICTP.\n",
        "\n",
        "Creado por Mauricio Gómez Viloria (abril 2022)"
      ],
      "metadata": {
        "id": "5lUc8maYUv4b"
      }
    },
    {
      "cell_type": "code",
      "source": [
        ""
      ],
      "metadata": {
        "id": "dTD9S2t5U9os"
      },
      "execution_count": null,
      "outputs": []
    }
  ]
}