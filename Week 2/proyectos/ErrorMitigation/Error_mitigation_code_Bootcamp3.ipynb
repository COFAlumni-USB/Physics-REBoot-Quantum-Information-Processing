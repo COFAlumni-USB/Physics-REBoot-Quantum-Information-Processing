{
  "nbformat": 4,
  "nbformat_minor": 0,
  "metadata": {
    "colab": {
      "name": "Error_mitigation_code_Bootcamp3.ipynb",
      "provenance": [],
      "collapsed_sections": []
    },
    "kernelspec": {
      "name": "python3",
      "display_name": "Python 3"
    },
    "language_info": {
      "name": "python"
    }
  },
  "cells": [
    {
      "cell_type": "markdown",
      "source": [
        "# Error Mitigation Algorithm: For a GHZ State. \n",
        "\n",
        "- María Agudo\n",
        "- Giuseppe Scolamiero\n",
        "- Delimar Nanín\n",
        "- Alejandro Rea\n",
        "- Larry Rivero\n",
        "- Daniela Salas\n",
        "\n",
        "Tutors: \n",
        "- Manuel Morgado, University of Strasbourg.\n",
        "- Faisal Alam, University of Illinois Urbana-Champaign.\n"
      ],
      "metadata": {
        "id": "H98g1urZhqrc"
      }
    },
    {
      "cell_type": "code",
      "execution_count": null,
      "metadata": {
        "id": "EuEGJtHRSvev"
      },
      "outputs": [],
      "source": [
        "pip install qiskit "
      ]
    },
    {
      "cell_type": "code",
      "source": [
        "from qiskit import * \n",
        "\n",
        "try:\n",
        "  !pip install pylatexenc\n",
        "  estilo = 'mpl'\n",
        "  QuantumCircuit(1).draw(estilo)\n",
        "except:\n",
        "  estilo = 'text'\n",
        "  \n",
        "from qiskit.visualization import plot_histogram\n",
        "from qiskit.ignis.mitigation.measurement import complete_meas_cal, CompleteMeasFitter\n",
        "\n",
        "import numpy as np\n",
        "import matplotlib.pyplot as plt"
      ],
      "metadata": {
        "id": "__mCi3VNS2vO"
      },
      "execution_count": null,
      "outputs": []
    },
    {
      "cell_type": "code",
      "source": [
        "from qiskit.visualization import array_to_latex"
      ],
      "metadata": {
        "id": "0o8buJYUTplZ"
      },
      "execution_count": null,
      "outputs": []
    },
    {
      "cell_type": "code",
      "source": [
        "qreg = QuantumRegister(3) #3 qubits, we can add them later to a circuit\n",
        "#complete_meas_cal(a QuantumRegister, a ClassicalRegister or a qubit_list) \n",
        "meas_calib, state_lab = complete_meas_cal(qr=qreg, circlabel='mcal')"
      ],
      "metadata": {
        "id": "_63Wl6YKTEHP"
      },
      "execution_count": null,
      "outputs": []
    },
    {
      "cell_type": "code",
      "source": [
        "state_lab"
      ],
      "metadata": {
        "colab": {
          "base_uri": "https://localhost:8080/"
        },
        "id": "M3iwnRODTMdZ",
        "outputId": "4be5f144-7fde-4b81-f68c-1a4fcd5cf668"
      },
      "execution_count": null,
      "outputs": [
        {
          "output_type": "execute_result",
          "data": {
            "text/plain": [
              "['000', '001', '010', '011', '100', '101', '110', '111']"
            ]
          },
          "metadata": {},
          "execution_count": 5
        }
      ]
    },
    {
      "cell_type": "code",
      "source": [
        "for circuit in meas_calib: #Print each circuit in meas_calibs (2^3 circuits for 3 qubits)\n",
        "    print('Circuit',circuit.name,'\\n')\n",
        "    print(circuit)\n",
        "    print()"
      ],
      "metadata": {
        "id": "ck0rLH_fTbRP",
        "colab": {
          "base_uri": "https://localhost:8080/"
        },
        "outputId": "db9daac8-9dbb-41e6-c12b-6b8386845c04"
      },
      "execution_count": null,
      "outputs": [
        {
          "output_type": "stream",
          "name": "stdout",
          "text": [
            "Circuit mcalcal_000 \n",
            "\n",
            "       ░ ┌─┐      \n",
            "q0_0: ─░─┤M├──────\n",
            "       ░ └╥┘┌─┐   \n",
            "q0_1: ─░──╫─┤M├───\n",
            "       ░  ║ └╥┘┌─┐\n",
            "q0_2: ─░──╫──╫─┤M├\n",
            "       ░  ║  ║ └╥┘\n",
            "c0: 3/════╩══╩══╩═\n",
            "          0  1  2 \n",
            "\n",
            "Circuit mcalcal_001 \n",
            "\n",
            "      ┌───┐ ░ ┌─┐      \n",
            "q0_0: ┤ X ├─░─┤M├──────\n",
            "      └───┘ ░ └╥┘┌─┐   \n",
            "q0_1: ──────░──╫─┤M├───\n",
            "            ░  ║ └╥┘┌─┐\n",
            "q0_2: ──────░──╫──╫─┤M├\n",
            "            ░  ║  ║ └╥┘\n",
            "c0: 3/═════════╩══╩══╩═\n",
            "               0  1  2 \n",
            "\n",
            "Circuit mcalcal_010 \n",
            "\n",
            "            ░ ┌─┐      \n",
            "q0_0: ──────░─┤M├──────\n",
            "      ┌───┐ ░ └╥┘┌─┐   \n",
            "q0_1: ┤ X ├─░──╫─┤M├───\n",
            "      └───┘ ░  ║ └╥┘┌─┐\n",
            "q0_2: ──────░──╫──╫─┤M├\n",
            "            ░  ║  ║ └╥┘\n",
            "c0: 3/═════════╩══╩══╩═\n",
            "               0  1  2 \n",
            "\n",
            "Circuit mcalcal_011 \n",
            "\n",
            "      ┌───┐ ░ ┌─┐      \n",
            "q0_0: ┤ X ├─░─┤M├──────\n",
            "      ├───┤ ░ └╥┘┌─┐   \n",
            "q0_1: ┤ X ├─░──╫─┤M├───\n",
            "      └───┘ ░  ║ └╥┘┌─┐\n",
            "q0_2: ──────░──╫──╫─┤M├\n",
            "            ░  ║  ║ └╥┘\n",
            "c0: 3/═════════╩══╩══╩═\n",
            "               0  1  2 \n",
            "\n",
            "Circuit mcalcal_100 \n",
            "\n",
            "            ░ ┌─┐      \n",
            "q0_0: ──────░─┤M├──────\n",
            "            ░ └╥┘┌─┐   \n",
            "q0_1: ──────░──╫─┤M├───\n",
            "      ┌───┐ ░  ║ └╥┘┌─┐\n",
            "q0_2: ┤ X ├─░──╫──╫─┤M├\n",
            "      └───┘ ░  ║  ║ └╥┘\n",
            "c0: 3/═════════╩══╩══╩═\n",
            "               0  1  2 \n",
            "\n",
            "Circuit mcalcal_101 \n",
            "\n",
            "      ┌───┐ ░ ┌─┐      \n",
            "q0_0: ┤ X ├─░─┤M├──────\n",
            "      └───┘ ░ └╥┘┌─┐   \n",
            "q0_1: ──────░──╫─┤M├───\n",
            "      ┌───┐ ░  ║ └╥┘┌─┐\n",
            "q0_2: ┤ X ├─░──╫──╫─┤M├\n",
            "      └───┘ ░  ║  ║ └╥┘\n",
            "c0: 3/═════════╩══╩══╩═\n",
            "               0  1  2 \n",
            "\n",
            "Circuit mcalcal_110 \n",
            "\n",
            "            ░ ┌─┐      \n",
            "q0_0: ──────░─┤M├──────\n",
            "      ┌───┐ ░ └╥┘┌─┐   \n",
            "q0_1: ┤ X ├─░──╫─┤M├───\n",
            "      ├───┤ ░  ║ └╥┘┌─┐\n",
            "q0_2: ┤ X ├─░──╫──╫─┤M├\n",
            "      └───┘ ░  ║  ║ └╥┘\n",
            "c0: 3/═════════╩══╩══╩═\n",
            "               0  1  2 \n",
            "\n",
            "Circuit mcalcal_111 \n",
            "\n",
            "      ┌───┐ ░ ┌─┐      \n",
            "q0_0: ┤ X ├─░─┤M├──────\n",
            "      ├───┤ ░ └╥┘┌─┐   \n",
            "q0_1: ┤ X ├─░──╫─┤M├───\n",
            "      ├───┤ ░  ║ └╥┘┌─┐\n",
            "q0_2: ┤ X ├─░──╫──╫─┤M├\n",
            "      └───┘ ░  ║  ║ └╥┘\n",
            "c0: 3/═════════╩══╩══╩═\n",
            "               0  1  2 \n",
            "\n"
          ]
        }
      ]
    },
    {
      "cell_type": "code",
      "source": [
        "aer_sim = Aer.get_backend('aer_simulator') #We choose aer_simulator as backend.\n",
        "\n",
        "#We run the circuit without noise\n",
        "t_qcirc = transpile(meas_calib, aer_sim) \n",
        "#transpile(circuits to transpile, backend) transpile: run all the circuits.\n",
        "\n",
        "qobject = assemble(t_qcirc, shots=10000) \n",
        "#assemble: Gathers a circuit list in a Qobj. \n",
        "result_calib = aer_sim.run(qobject, shots=10000).result()\n",
        "#aer_sim.run runs the simulations, .result() gives us the result for the calibration in cal_results."
      ],
      "metadata": {
        "id": "QiPH1RGHTcjC"
      },
      "execution_count": null,
      "outputs": []
    },
    {
      "cell_type": "code",
      "source": [
        "fitter_meas = CompleteMeasFitter(result_calib, state_lab, circlabel='mcal') #Creates the calibration matrix M.\n",
        "array_to_latex(fitter_meas.cal_matrix) #In this case w/o noise we have the identity matrix."
      ],
      "metadata": {
        "colab": {
          "base_uri": "https://localhost:8080/",
          "height": 180
        },
        "id": "Z_dpB5GoTiD5",
        "outputId": "81b2c3a4-82ad-436a-e32c-5b1e07edab64"
      },
      "execution_count": null,
      "outputs": [
        {
          "output_type": "execute_result",
          "data": {
            "text/plain": [
              "<IPython.core.display.Latex object>"
            ],
            "text/latex": "$$\n\n\\begin{bmatrix}\n1 & 0 & 0 & 0 & 0 & 0 & 0 & 0  \\\\\n 0 & 1 & 0 & 0 & 0 & 0 & 0 & 0  \\\\\n 0 & 0 & 1 & 0 & 0 & 0 & 0 & 0  \\\\\n 0 & 0 & 0 & 1 & 0 & 0 & 0 & 0  \\\\\n 0 & 0 & 0 & 0 & 1 & 0 & 0 & 0  \\\\\n 0 & 0 & 0 & 0 & 0 & 1 & 0 & 0  \\\\\n 0 & 0 & 0 & 0 & 0 & 0 & 1 & 0  \\\\\n 0 & 0 & 0 & 0 & 0 & 0 & 0 & 1  \\\\\n \\end{bmatrix}\n$$"
          },
          "metadata": {},
          "execution_count": 8
        }
      ]
    },
    {
      "cell_type": "code",
      "source": [
        "\"\"\"Here we defined the noise function \"\"\"\n",
        "\n",
        "from qiskit.providers.aer.noise import NoiseModel\n",
        "from qiskit.providers.aer.noise.errors import pauli_error, depolarizing_error\n",
        "\n",
        "def get_noise(p):\n",
        "\n",
        "    error_meas = pauli_error([('Y', p/2), ('X', p/2), ('I', 1 - p)]) \n",
        "\n",
        "    noise_model = NoiseModel() \n",
        "\n",
        "    #we add the error_meas to the noise_model.\n",
        "    noise_model.add_all_qubit_quantum_error(error_meas, \"measure\") # measurement error is applied to measurements.\n",
        "        \n",
        "    return noise_model"
      ],
      "metadata": {
        "id": "vKokRChSTi8H"
      },
      "execution_count": null,
      "outputs": []
    },
    {
      "cell_type": "code",
      "source": [
        "#We create a list of values to use and round them to 3 decimals.\n",
        "values_list = np.round(np.linspace(0.05, 0.50, 50), decimals=3)\n",
        "values_list"
      ],
      "metadata": {
        "colab": {
          "base_uri": "https://localhost:8080/"
        },
        "id": "ugxRaHtVfEmv",
        "outputId": "c804aa89-deb1-4a23-e0dc-c08cf333aab5"
      },
      "execution_count": null,
      "outputs": [
        {
          "output_type": "execute_result",
          "data": {
            "text/plain": [
              "array([0.05 , 0.059, 0.068, 0.078, 0.087, 0.096, 0.105, 0.114, 0.123,\n",
              "       0.133, 0.142, 0.151, 0.16 , 0.169, 0.179, 0.188, 0.197, 0.206,\n",
              "       0.215, 0.224, 0.234, 0.243, 0.252, 0.261, 0.27 , 0.28 , 0.289,\n",
              "       0.298, 0.307, 0.316, 0.326, 0.335, 0.344, 0.353, 0.362, 0.371,\n",
              "       0.381, 0.39 , 0.399, 0.408, 0.417, 0.427, 0.436, 0.445, 0.454,\n",
              "       0.463, 0.472, 0.482, 0.491, 0.5  ])"
            ]
          },
          "metadata": {},
          "execution_count": 10
        }
      ]
    },
    {
      "cell_type": "code",
      "source": [
        "#two empty list for the loop afterwards\n",
        "noise_values = []\n",
        "fidelity_values = []"
      ],
      "metadata": {
        "id": "GJD83S5geazX"
      },
      "execution_count": null,
      "outputs": []
    },
    {
      "cell_type": "code",
      "source": [
        "percentage = 0.1\n",
        "noise_model = get_noise(percentage) #We add the noise, 10% probability."
      ],
      "metadata": {
        "id": "W16fxrfcTxGL"
      },
      "execution_count": null,
      "outputs": []
    },
    {
      "cell_type": "code",
      "source": [
        "t_qcirc = transpile(meas_calib, aer_sim)\n",
        "qobject = assemble(t_qcirc, shots=10000)\n",
        "result_calib = aer_sim.run(qobject, noise_model=noise_model, shots=10000).result()\n",
        "\n",
        "fitter_meas = CompleteMeasFitter(result_calib, state_lab, circlabel='mcal')\n",
        "array_to_latex(fitter_meas.cal_matrix) #This is the calibration matrix M "
      ],
      "metadata": {
        "id": "TJyQHqmhT2aU",
        "colab": {
          "base_uri": "https://localhost:8080/",
          "height": 180
        },
        "outputId": "e0a0ca30-fd3a-4e36-fc18-b114e907a707"
      },
      "execution_count": null,
      "outputs": [
        {
          "output_type": "execute_result",
          "data": {
            "text/plain": [
              "<IPython.core.display.Latex object>"
            ],
            "text/latex": "$$\n\n\\begin{bmatrix}\n0.7246 & 0.0795 & 0.0814 & 0.0082 & 0.0745 & 0.0083 & 0.0084 & 0.0013  \\\\\n 0.0839 & 0.7237 & 0.0066 & 0.0779 & 0.0091 & 0.0843 & 0.0009 & 0.0099  \\\\\n 0.0799 & 0.01 & 0.7325 & 0.0793 & 0.0097 & 0.0008 & 0.0834 & 0.0099  \\\\\n 0.0075 & 0.086 & 0.0794 & 0.728 & 0.0011 & 0.0086 & 0.0079 & 0.0817  \\\\\n 0.0855 & 0.0088 & 0.0114 & 0.0012 & 0.733 & 0.076 & 0.078 & 0.0083  \\\\\n 0.0086 & 0.0811 & 0.0004 & 0.0097 & 0.0773 & 0.7324 & 0.0098 & 0.0829  \\\\\n 0.0093 & 0.0013 & 0.0788 & 0.0091 & 0.0849 & 0.0086 & 0.7241 & 0.0816  \\\\\n 0.0007 & 0.0096 & 0.0095 & 0.0866 & 0.0104 & 0.081 & 0.0875 & 0.7244  \\\\\n \\end{bmatrix}\n$$"
          },
          "metadata": {},
          "execution_count": 13
        }
      ]
    },
    {
      "cell_type": "code",
      "source": [
        "fitter_meas.plot_calibration()"
      ],
      "metadata": {
        "colab": {
          "base_uri": "https://localhost:8080/",
          "height": 283
        },
        "id": "f1zINd9CT5Bi",
        "outputId": "ae2449a7-e756-44cd-b58d-ca22e14e109e"
      },
      "execution_count": null,
      "outputs": [
        {
          "output_type": "display_data",
          "data": {
            "text/plain": [
              "<Figure size 432x288 with 2 Axes>"
            ],
            "image/png": "[encoded data removed]"
          },
          "metadata": {
            "needs_background": "light"
          }
        }
      ]
    },
    {
      "cell_type": "markdown",
      "source": [
        "The filter works fine, we apply it to the circuit with $GHZ$ state:"
      ],
      "metadata": {
        "id": "lsQHaWfVUDDB"
      }
    },
    {
      "cell_type": "code",
      "source": [
        "#GZH circuit\n",
        "qc = QuantumCircuit(3,3) \n",
        "qc.h(0) #Hadamard gate transforms |0> to |+>\n",
        "qc.cx(0,1) #CNOT gates\n",
        "qc.cx(0,2)\n",
        "qc.barrier()\n",
        "qc.measure(0,0)\n",
        "qc.measure(1,1)\n",
        "qc.measure(2,2)\n",
        "qc.draw(estilo)"
      ],
      "metadata": {
        "colab": {
          "base_uri": "https://localhost:8080/",
          "height": 231
        },
        "id": "R-JVihg6UAN0",
        "outputId": "b99486d4-34f9-40b7-e632-d2150a0cc512"
      },
      "execution_count": null,
      "outputs": [
        {
          "output_type": "execute_result",
          "data": {
            "text/plain": [
              "<Figure size 507.997x264.88 with 1 Axes>"
            ],
            "image/png": "[encoded data removed]"
          },
          "metadata": {},
          "execution_count": 15
        }
      ]
    },
    {
      "cell_type": "code",
      "source": [
        "t_qc = transpile(qc, aer_sim)\n",
        "qobject = assemble(t_qc, shots=10000)\n",
        "results = aer_sim.run(qobject, noise_model=noise_model, shots=10000).result()"
      ],
      "metadata": {
        "id": "CK1iyjUjUHAA"
      },
      "execution_count": null,
      "outputs": []
    },
    {
      "cell_type": "code",
      "source": [
        "#We get a sample of the results\n",
        "noisy_counts = results.get_counts()\n",
        "print(noisy_counts)"
      ],
      "metadata": {
        "colab": {
          "base_uri": "https://localhost:8080/"
        },
        "id": "BB4Bo44hUpgA",
        "outputId": "5083ea20-163c-4baf-aa10-fdd9d45f3459"
      },
      "execution_count": null,
      "outputs": [
        {
          "output_type": "stream",
          "name": "stdout",
          "text": [
            "{'010': 461, '101': 460, '000': 3657, '111': 3617, '011': 459, '110': 476, '100': 428, '001': 442}\n"
          ]
        }
      ]
    },
    {
      "cell_type": "code",
      "source": [
        "# Get the filter object\n",
        "meas_filter = fitter_meas.filter\n",
        "\n",
        "# Results with mitigation\n",
        "mitigated_results = meas_filter.apply(results)\n",
        "mitigated_counts = mitigated_results.get_counts()"
      ],
      "metadata": {
        "id": "fJ0umJrVU_0q"
      },
      "execution_count": null,
      "outputs": []
    },
    {
      "cell_type": "code",
      "source": [
        "#Plot the results, mitigaded and non-mitigated (noisy)\n",
        "noisy_counts = results.get_counts()\n",
        "plot_histogram([noisy_counts, mitigated_counts], legend=['Noisy', 'Mitigated'])"
      ],
      "metadata": {
        "colab": {
          "base_uri": "https://localhost:8080/",
          "height": 344
        },
        "id": "ZGleSR46Wk4F",
        "outputId": "1206514e-bdbb-442d-f8e0-ccda056e4a25"
      },
      "execution_count": null,
      "outputs": [
        {
          "output_type": "execute_result",
          "data": {
            "text/plain": [
              "<Figure size 504x360 with 1 Axes>"
            ],
            "image/png": "[encoded data removed]"
          },
          "metadata": {},
          "execution_count": 24
        }
      ]
    },
    {
      "cell_type": "code",
      "source": [
        "# What is the measurement fidelity?\n",
        "print(\"Average Measurement Fidelity: %f\" % fitter_meas.readout_fidelity())\n"
      ],
      "metadata": {
        "colab": {
          "base_uri": "https://localhost:8080/"
        },
        "id": "XtlDpnxDWsZB",
        "outputId": "598518df-4e9c-4dd9-ad27-27f9f5b9418c"
      },
      "execution_count": null,
      "outputs": [
        {
          "output_type": "stream",
          "name": "stdout",
          "text": [
            "Average Measurement Fidelity: 0.727838\n"
          ]
        }
      ]
    },
    {
      "cell_type": "markdown",
      "source": [
        "## Loop 50 times for the noise function\n",
        "We loop the function 50 times increasing the noise probability with 50 values between 5 and 50, to calculate the fidelity and plot the data"
      ],
      "metadata": {
        "id": "bfwnyFrvSOee"
      }
    },
    {
      "cell_type": "code",
      "source": [
        "import numpy as np"
      ],
      "metadata": {
        "id": "2lznjYh5MVVd"
      },
      "execution_count": null,
      "outputs": []
    },
    {
      "cell_type": "code",
      "source": [
        "for value in values_list:\n",
        "\n",
        "#---------------\n",
        "  percentage = value #we use the list defined previously\n",
        "  noise_model = get_noise(percentage) #Add the noise.\n",
        "#---------------\n",
        "\n",
        "#---------------\n",
        "  t_qcirc = transpile(meas_calib, aer_sim)\n",
        "  qobject = assemble(t_qcirc, shots=10000)\n",
        "  result_calib = aer_sim.run(qobject, noise_model=noise_model, shots=10000).result()\n",
        "\n",
        "  fitter_meas = CompleteMeasFitter(result_calib, state_lab, circlabel='mcal')\n",
        "#--------------\n",
        "\n",
        "#--------------\n",
        "  qc = QuantumCircuit(3,3) \n",
        "  qc.h(0)\n",
        "  qc.cx(0,1) \n",
        "  qc.cx(0,2)\n",
        "  qc.barrier()\n",
        "  qc.measure(0,0)\n",
        "  qc.measure(1,1)\n",
        "  qc.measure(2,2)\n",
        "#-------------\n",
        "\n",
        "#-------------\n",
        "  t_qc = transpile(qc, aer_sim)\n",
        "  qobject = assemble(t_qc, shots=10000)\n",
        "  results = aer_sim.run(qobject, noise_model=noise_model, shots=10000).result()\n",
        "#-------------\n",
        "\n",
        "#-------------\n",
        "# Get the filter object\n",
        "  meas_filter = fitter_meas.filter\n",
        "\n",
        "# Results with mitigation\n",
        "  mitigated_results = meas_filter.apply(results)\n",
        "  mitigated_counts = mitigated_results.get_counts()\n",
        "#-------------\n",
        "\n",
        "#-------------\n",
        "  final_fidelity = fitter_meas.readout_fidelity() #average fidelity\n",
        "\n",
        "  noise_values.append(percentage)\n",
        "  fidelity_values.append(final_fidelity)\n"
      ],
      "metadata": {
        "id": "gk2xEqUgMVeo"
      },
      "execution_count": null,
      "outputs": []
    },
    {
      "cell_type": "code",
      "source": [
        "print(f\"Noise values: {noise_values}\")\n",
        "print('\\n')\n",
        "print(f\"Fidelity values: {fidelity_values}\")"
      ],
      "metadata": {
        "colab": {
          "base_uri": "https://localhost:8080/"
        },
        "id": "aAFzMWZBVghr",
        "outputId": "ee0e38fa-9834-4fbd-cdfb-5424e99176f6"
      },
      "execution_count": null,
      "outputs": [
        {
          "output_type": "stream",
          "name": "stdout",
          "text": [
            "Noise values: [0.05, 0.059, 0.068, 0.078, 0.087, 0.096, 0.105, 0.114, 0.123, 0.133, 0.142, 0.151, 0.16, 0.169, 0.179, 0.188, 0.197, 0.206, 0.215, 0.224, 0.234, 0.243, 0.252, 0.261, 0.27, 0.28, 0.289, 0.298, 0.307, 0.316, 0.326, 0.335, 0.344, 0.353, 0.362, 0.371, 0.381, 0.39, 0.399, 0.408, 0.417, 0.427, 0.436, 0.445, 0.454, 0.463, 0.472, 0.482, 0.491, 0.5]\n",
            "\n",
            "\n",
            "Fidelity values: [0.8565750000000001, 0.8332124999999999, 0.8112625, 0.784825, 0.7615375, 0.7382875, 0.7160124999999999, 0.6939625, 0.6769125, 0.6511375, 0.6339374999999999, 0.611175, 0.59295, 0.574225, 0.557375, 0.5375749999999999, 0.5145875, 0.5023249999999999, 0.48448749999999996, 0.4664125, 0.449175, 0.4340125, 0.41605, 0.404525, 0.38708750000000003, 0.37411249999999996, 0.3617, 0.34521250000000003, 0.3349, 0.3191625, 0.3093875, 0.294625, 0.2816875, 0.2716375, 0.2613, 0.24985000000000002, 0.2382, 0.2252375, 0.21810000000000002, 0.20571250000000002, 0.1982375, 0.186525, 0.1800625, 0.17065, 0.1643125, 0.15288749999999998, 0.147675, 0.1414, 0.1345, 0.1254375]\n"
          ]
        }
      ]
    },
    {
      "cell_type": "code",
      "source": [
        "import scipy.optimize as opt\n",
        "\n",
        "final_noise = np.array(noise_values) * 100 #to get the percentage in the correct format 0-100%\n",
        "fidelity_final = np.round(fidelity_values, decimals = 3) #rounding up the values to the format 0.000 (3 decimals)\n",
        "\n",
        "x = final_noise\n",
        "y = fidelity_final\n",
        "optimized = opt.curve_fit(lambda t,a,b: a*np.exp(b*t),  x,  y,  p0=(0.80, -0.1)) #curve fitting\n",
        "#([a, b])"
      ],
      "metadata": {
        "id": "hYh-_-svVgyB"
      },
      "execution_count": null,
      "outputs": []
    },
    {
      "cell_type": "code",
      "source": [
        "#We have a bunch of arrays, from the first one we have [a, b]\n",
        "a = optimized[0][0]\n",
        "b = optimized[0][1]\n",
        "print(a,b)"
      ],
      "metadata": {
        "colab": {
          "base_uri": "https://localhost:8080/"
        },
        "id": "yNuSWRK7AMGd",
        "outputId": "0fc0cce5-a726-484b-f1bd-d160ff331745"
      },
      "execution_count": null,
      "outputs": [
        {
          "output_type": "stream",
          "name": "stdout",
          "text": [
            "1.0802313292091368 -0.03896927727165702\n"
          ]
        }
      ]
    },
    {
      "cell_type": "code",
      "source": [
        "#Plotting the datta as a scatter plot\n",
        "plt.figure(figsize=(8,6))\n",
        "\n",
        "plt.scatter(final_noise, fidelity_values, color='m', marker='o', label='Data')\n",
        "plt.grid()\n",
        "\n",
        "plt.xlabel('Noise [%] ')\n",
        "plt.ylabel('Fidelity')\n",
        "plt.xlim(0,55)\n",
        "plt.ylim(0,1)\n",
        "\n",
        "plt.xticks(np.arange(0, len(final_noise)+1, 5))\n",
        "plt.yticks(np.arange(0, 1, 0.1))\n",
        "\n",
        "x_fitted = final_noise\n",
        "y_fitted = a*np.exp(b*x)\n",
        "plt.plot(x_fitted, y_fitted, label='Curve fitting', color='blue', lw=1.2)\n",
        "\n",
        "plt.title('Noise vs Fidelity')\n",
        "plt.legend()\n",
        "\n",
        "\n",
        "plt.show()"
      ],
      "metadata": {
        "colab": {
          "base_uri": "https://localhost:8080/",
          "height": 404
        },
        "id": "hUATOpy-k-94",
        "outputId": "103d5800-326e-463d-f1b4-897631707bdc"
      },
      "execution_count": null,
      "outputs": [
        {
          "output_type": "display_data",
          "data": {
            "text/plain": [
              "<Figure size 576x432 with 1 Axes>"
            ],
            "image/png": "[encoded data removed]"
          },
          "metadata": {
            "needs_background": "light"
          }
        }
      ]
    }
  ]
}